{
 "cells": [
  {
   "cell_type": "markdown",
   "metadata": {},
   "source": [
    "# EIGENFACES"
   ]
  },
  {
   "cell_type": "code",
   "execution_count": 1,
   "metadata": {},
   "outputs": [],
   "source": [
    "import matplotlib.pyplot as plt\n",
    "import numpy as np\n",
    "import os\n",
    "from PIL import Image\n",
    "from sklearn.metrics import accuracy_score"
   ]
  },
  {
   "cell_type": "code",
   "execution_count": 2,
   "metadata": {},
   "outputs": [],
   "source": [
    "DATA_PATH = 'dataset/eigenfaces_dataset/'\n",
    "IMG_WIDTH = 250\n",
    "IMG_HEIGHT = 250\n",
    "\n",
    "n_components = 100"
   ]
  },
  {
   "cell_type": "markdown",
   "metadata": {},
   "source": [
    "## Import data"
   ]
  },
  {
   "cell_type": "code",
   "execution_count": 73,
   "metadata": {},
   "outputs": [
    {
     "name": "stdout",
     "output_type": "stream",
     "text": [
      "['s01', 's02', 's03', 's04', 's05', 's06', 's07', 's08', 's09', 's10', 's11', 's12', 's13', 's14', 's15', 's16', 's17', 's18', 's19', 's20', 's21', 's22', 's23', 's24', 's25', 's26', 's27', 's28', 's29', 's30', 's31', 's32', 's33', 's34', 's35', 's36', 's37']\n",
      "Total persons: 37\n",
      "s01 (10, 112, 92)\n",
      "s02 (10, 112, 92)\n",
      "s03 (10, 112, 92)\n",
      "s04 (10, 112, 92)\n",
      "s05 (10, 112, 92)\n",
      "s06 (10, 112, 92)\n",
      "s07 (10, 112, 92)\n",
      "s08 (10, 112, 92)\n",
      "s09 (10, 112, 92)\n",
      "s10 (10, 112, 92)\n",
      "s11 (10, 112, 92)\n",
      "s12 (10, 112, 92)\n",
      "s13 (10, 112, 92)\n",
      "s14 (10, 112, 92)\n",
      "s15 (10, 112, 92)\n",
      "s16 (10, 112, 92)\n",
      "s17 (10, 112, 92)\n",
      "s18 (10, 112, 92)\n",
      "s19 (10, 112, 92)\n",
      "s20 (10, 112, 92)\n",
      "s21 (10, 112, 92)\n",
      "s22 (10, 112, 92)\n",
      "s23 (10, 112, 92)\n",
      "s24 (10, 112, 92)\n",
      "s25 (10, 112, 92)\n",
      "s26 (10, 112, 92)\n",
      "s27 (10, 112, 92)\n",
      "s28 (10, 112, 92)\n",
      "s29 (10, 112, 92)\n",
      "s30 (10, 112, 92)\n",
      "s31 (10, 112, 92)\n",
      "s32 (10, 112, 92)\n",
      "s33 (10, 112, 92)\n",
      "s34 (10, 112, 92)\n",
      "s35 (10, 112, 92)\n",
      "s36 (10, 112, 92)\n",
      "s37 (10, 112, 92)\n"
     ]
    }
   ],
   "source": [
    "pictures = dict()\n",
    "dirs = sorted(os.listdir('dataset/faces/'))\n",
    "print(dirs)\n",
    "for d in dirs:\n",
    "    pictures[d] = []\n",
    "    for f in os.listdir(os.path.join('dataset/faces/', d)):\n",
    "        if f[-4:] == '.pgm':\n",
    "            pictures[d].append(np.asarray(Image.open(os.path.join('dataset/faces/' + d, f)).convert('L')))\n",
    "            \n",
    "labels = pictures.keys()\n",
    "print(\"Total persons:\", len(labels))\n",
    "for d in labels:\n",
    "    pictures[d] = np.asarray(pictures[d])\n",
    "    print(d, pictures[d].shape)"
   ]
  },
  {
   "cell_type": "markdown",
   "metadata": {},
   "source": [
    "## Split dataset"
   ]
  },
  {
   "cell_type": "code",
   "execution_count": 74,
   "metadata": {},
   "outputs": [],
   "source": [
    "train = []\n",
    "l_train = []\n",
    "test = []\n",
    "l_test = []\n",
    "\n",
    "for d in labels:\n",
    "    train.append(pictures[d][0])\n",
    "    test += list(pictures[d][1:])\n",
    "    \n",
    "    l_train.append(d)\n",
    "    l_test += [d] * len(list(pictures[d][1:]))"
   ]
  },
  {
   "cell_type": "code",
   "execution_count": 75,
   "metadata": {},
   "outputs": [],
   "source": [
    "train = np.asarray(train)\n",
    "test = np.asarray(test)"
   ]
  },
  {
   "cell_type": "markdown",
   "metadata": {},
   "source": [
    "## Train model"
   ]
  },
  {
   "cell_type": "code",
   "execution_count": 76,
   "metadata": {},
   "outputs": [
    {
     "name": "stdout",
     "output_type": "stream",
     "text": [
      "(37, 37)\n"
     ]
    }
   ],
   "source": [
    "import EF\n",
    "import importlib\n",
    "importlib.reload(EF)\n",
    "classifier = EF.EigenFacesClassifier(len(dirs))\n",
    "classifier.fit(train, l_train)"
   ]
  },
  {
   "cell_type": "markdown",
   "metadata": {},
   "source": [
    "## Make predictions"
   ]
  },
  {
   "cell_type": "code",
   "execution_count": 77,
   "metadata": {},
   "outputs": [
    {
     "name": "stdout",
     "output_type": "stream",
     "text": [
      "0.5915915915915916\n"
     ]
    }
   ],
   "source": [
    "predictions = classifier.predict(test)\n",
    "accuracy = accuracy_score(l_test, predictions)\n",
    "print(accuracy)"
   ]
  },
  {
   "cell_type": "markdown",
   "metadata": {},
   "source": [
    "## Compare different number of classes"
   ]
  },
  {
   "cell_type": "code",
   "execution_count": 80,
   "metadata": {},
   "outputs": [
    {
     "name": "stdout",
     "output_type": "stream",
     "text": [
      "Classes: 5\n",
      "     5 0.8\n",
      "Classes: 10\n",
      "     5 0.8\n",
      "     10 0.8555555555555555\n",
      "Classes: 20\n",
      "     5 0.5777777777777777\n",
      "     10 0.6444444444444445\n",
      "     20 0.6722222222222223\n",
      "Classes: 37\n",
      "     5 0.4294294294294294\n",
      "     10 0.5285285285285285\n",
      "     20 0.5675675675675675\n",
      "     37 0.5915915915915916\n"
     ]
    }
   ],
   "source": [
    "for c in [5, 10, 20, 37]:\n",
    "    print('Classes:', c)\n",
    "    for n in [5, 10, 20, 37]:\n",
    "        if c >= n:\n",
    "            train = []\n",
    "            l_train = []\n",
    "            test = []\n",
    "            l_test = []\n",
    "\n",
    "            for d in list(labels)[:c]:\n",
    "                train.append(pictures[d][0])\n",
    "                test += list(pictures[d][1:])\n",
    "\n",
    "                l_train.append(d)\n",
    "                l_test += [d] * (pictures[d].shape[0] - 1)\n",
    "            train = np.asarray(train)\n",
    "            test = np.asarray(test)\n",
    "\n",
    "            importlib.reload(EF)\n",
    "\n",
    "            classifier = EF.EigenFacesClassifier(n)\n",
    "            classifier.fit(train, l_train)\n",
    "\n",
    "            predictions = classifier.predict(test)\n",
    "            accuracy = accuracy_score(l_test, predictions)\n",
    "            print('    ', n, accuracy)"
   ]
  },
  {
   "cell_type": "code",
   "execution_count": null,
   "metadata": {},
   "outputs": [],
   "source": []
  }
 ],
 "metadata": {
  "kernelspec": {
   "display_name": "Python 3",
   "language": "python",
   "name": "python3"
  },
  "language_info": {
   "codemirror_mode": {
    "name": "ipython",
    "version": 3
   },
   "file_extension": ".py",
   "mimetype": "text/x-python",
   "name": "python",
   "nbconvert_exporter": "python",
   "pygments_lexer": "ipython3",
   "version": "3.7.1"
  }
 },
 "nbformat": 4,
 "nbformat_minor": 2
}
