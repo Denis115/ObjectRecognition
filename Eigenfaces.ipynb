{
 "cells": [
  {
   "cell_type": "markdown",
   "metadata": {},
   "source": [
    "# EIGENFACES"
   ]
  },
  {
   "cell_type": "code",
   "execution_count": 2,
   "metadata": {},
   "outputs": [],
   "source": [
    "import matplotlib.pyplot as plt\n",
    "import numpy as np\n",
    "import os\n",
    "from PIL import Image\n",
    "from sklearn.metrics import accuracy_score"
   ]
  },
  {
   "cell_type": "code",
   "execution_count": 3,
   "metadata": {},
   "outputs": [],
   "source": [
    "DATA_PATH = 'dataset/eigenfaces_dataset/'\n",
    "IMG_WIDTH = 250\n",
    "IMG_HEIGHT = 250\n",
    "\n",
    "n_components = 100"
   ]
  },
  {
   "cell_type": "markdown",
   "metadata": {},
   "source": [
    "## Import data"
   ]
  },
  {
   "cell_type": "code",
   "execution_count": 4,
   "metadata": {},
   "outputs": [
    {
     "name": "stdout",
     "output_type": "stream",
     "text": [
      "Total persons: 37\n",
      "s28 (10, 112, 92)\n",
      "s7 (10, 112, 92)\n",
      "s26 (10, 112, 92)\n",
      "s25 (10, 112, 92)\n",
      "s8 (10, 112, 92)\n",
      "s3 (10, 112, 92)\n",
      "s14 (10, 112, 92)\n",
      "s33 (10, 112, 92)\n",
      "s10 (10, 112, 92)\n",
      "s27 (10, 112, 92)\n",
      "s29 (10, 112, 92)\n",
      "s22 (10, 112, 92)\n",
      "s5 (10, 112, 92)\n",
      "s1 (10, 112, 92)\n",
      "s30 (10, 112, 92)\n",
      "s20 (10, 112, 92)\n",
      "s18 (10, 112, 92)\n",
      "s17 (10, 112, 92)\n",
      "s2 (10, 112, 92)\n",
      "s35 (10, 112, 92)\n",
      "s9 (10, 112, 92)\n",
      "s16 (10, 112, 92)\n",
      "s23 (10, 112, 92)\n",
      "s12 (10, 112, 92)\n",
      "s32 (10, 112, 92)\n",
      "s21 (10, 112, 92)\n",
      "s34 (10, 112, 92)\n",
      "s13 (10, 112, 92)\n",
      "s6 (10, 112, 92)\n",
      "s4 (10, 112, 92)\n",
      "s37 (10, 112, 92)\n",
      "s36 (10, 112, 92)\n",
      "s19 (10, 112, 92)\n",
      "s15 (10, 112, 92)\n",
      "s11 (10, 112, 92)\n",
      "s24 (10, 112, 92)\n",
      "s31 (10, 112, 92)\n"
     ]
    }
   ],
   "source": [
    "pictures = dict()\n",
    "for d in os.listdir('dataset/faces/'):\n",
    "    pictures[d] = []\n",
    "    for f in os.listdir(os.path.join('dataset/faces/', d)):\n",
    "        if f[-4:] == '.pgm':\n",
    "            pictures[d].append(np.asarray(Image.open(os.path.join('dataset/faces/' + d, f)).convert('L')))\n",
    "            \n",
    "labels = pictures.keys()\n",
    "print(\"Total persons:\", len(labels))\n",
    "for d in labels:\n",
    "    pictures[d] = np.asarray(pictures[d])\n",
    "    print(d, pictures[d].shape)"
   ]
  },
  {
   "cell_type": "markdown",
   "metadata": {},
   "source": [
    "## Split dataset"
   ]
  },
  {
   "cell_type": "code",
   "execution_count": 5,
   "metadata": {},
   "outputs": [],
   "source": [
    "train = []\n",
    "l_train = []\n",
    "test = []\n",
    "l_test = []\n",
    "\n",
    "for d in labels:\n",
    "    train.append(pictures[d][0])\n",
    "    test += list(pictures[d][:5])\n",
    "    \n",
    "    l_train.append(d)\n",
    "    l_test += [d] * (5)"
   ]
  },
  {
   "cell_type": "code",
   "execution_count": 6,
   "metadata": {},
   "outputs": [],
   "source": [
    "train = np.asarray(train)\n",
    "test = np.asarray(test)"
   ]
  },
  {
   "cell_type": "markdown",
   "metadata": {},
   "source": [
    "## Train model"
   ]
  },
  {
   "cell_type": "code",
   "execution_count": 7,
   "metadata": {},
   "outputs": [],
   "source": [
    "import EF\n",
    "import importlib\n",
    "importlib.reload(EF)\n",
    "classifier = EF.EigenFacesClassifier(100)\n",
    "classifier.fit(train, l_train)"
   ]
  },
  {
   "cell_type": "markdown",
   "metadata": {},
   "source": [
    "## Make predictions"
   ]
  },
  {
   "cell_type": "code",
   "execution_count": 8,
   "metadata": {},
   "outputs": [
    {
     "name": "stdout",
     "output_type": "stream",
     "text": [
      "0.7243243243243244\n"
     ]
    }
   ],
   "source": [
    "predictions = classifier.predict(test)\n",
    "accuracy = accuracy_score(l_test, predictions)\n",
    "print(accuracy)"
   ]
  },
  {
   "cell_type": "markdown",
   "metadata": {},
   "source": [
    "## Compare different number of classes"
   ]
  },
  {
   "cell_type": "code",
   "execution_count": 11,
   "metadata": {},
   "outputs": [
    {
     "name": "stdout",
     "output_type": "stream",
     "text": [
      "1\n",
      "     5 0.4\n",
      "     10 0.4666666666666667\n",
      "     20 0.26666666666666666\n",
      "     37 0.16516516516516516\n",
      "10\n",
      "     5 0.8444444444444444\n",
      "     10 0.8222222222222222\n",
      "     20 0.6777777777777778\n",
      "     37 0.5975975975975976\n",
      "100\n",
      "     5 0.8444444444444444\n",
      "     10 0.8222222222222222\n",
      "     20 0.7777777777777778\n",
      "     37 0.6906906906906907\n",
      "500\n",
      "     5 0.8444444444444444\n",
      "     10 0.8222222222222222\n",
      "     20 0.7777777777777778\n",
      "     37 0.6906906906906907\n"
     ]
    }
   ],
   "source": [
    "for n in [1, 10, 100, 500]:\n",
    "    print(n)\n",
    "    for c in [5, 10, 20, 37]:\n",
    "        train = []\n",
    "        l_train = []\n",
    "        test = []\n",
    "        l_test = []\n",
    "\n",
    "        for d in list(labels)[:c]:\n",
    "            train.append(pictures[d][0])\n",
    "            test += list(pictures[d][1:])\n",
    "\n",
    "            l_train.append(d)\n",
    "            l_test += [d] * (pictures[d].shape[0] - 1)\n",
    "        train = np.asarray(train)\n",
    "        test = np.asarray(test)\n",
    "\n",
    "        importlib.reload(EF)\n",
    "\n",
    "        classifier = EF.EigenFacesClassifier(n)\n",
    "        classifier.fit(train, l_train)\n",
    "\n",
    "        predictions = classifier.predict(test)\n",
    "        accuracy = accuracy_score(l_test, predictions)\n",
    "        print('    ', c, accuracy)"
   ]
  },
  {
   "cell_type": "code",
   "execution_count": null,
   "metadata": {},
   "outputs": [],
   "source": []
  }
 ],
 "metadata": {
  "kernelspec": {
   "display_name": "Python 3",
   "language": "python",
   "name": "python3"
  },
  "language_info": {
   "codemirror_mode": {
    "name": "ipython",
    "version": 3
   },
   "file_extension": ".py",
   "mimetype": "text/x-python",
   "name": "python",
   "nbconvert_exporter": "python",
   "pygments_lexer": "ipython3",
   "version": "3.7.1"
  }
 },
 "nbformat": 4,
 "nbformat_minor": 2
}
