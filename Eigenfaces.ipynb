{
 "cells": [
  {
   "cell_type": "markdown",
   "metadata": {},
   "source": [
    "# EIGENFACES"
   ]
  },
  {
   "cell_type": "code",
   "execution_count": 1,
   "metadata": {},
   "outputs": [],
   "source": [
    "import matplotlib.pyplot as plt\n",
    "import numpy as np\n",
    "import os\n",
    "from PIL import Image\n",
    "from sklearn.metrics import accuracy_score"
   ]
  },
  {
   "cell_type": "code",
   "execution_count": 25,
   "metadata": {},
   "outputs": [],
   "source": [
    "DATA_PATH = 'dataset/eigenfaces_dataset/'\n",
    "IMG_WIDTH = 250\n",
    "IMG_HEIGHT = 250\n",
    "\n",
    "n_components = 100"
   ]
  },
  {
   "cell_type": "markdown",
   "metadata": {},
   "source": [
    "## Import data"
   ]
  },
  {
   "cell_type": "code",
   "execution_count": 69,
   "metadata": {},
   "outputs": [
    {
     "name": "stdout",
     "output_type": "stream",
     "text": [
      "Total persons: 37\n",
      "s28 (10, 112, 92)\n",
      "s7 (10, 112, 92)\n",
      "s26 (10, 112, 92)\n",
      "s25 (10, 112, 92)\n",
      "s8 (10, 112, 92)\n",
      "s3 (10, 112, 92)\n",
      "s14 (10, 112, 92)\n",
      "s33 (10, 112, 92)\n",
      "s10 (10, 112, 92)\n",
      "s27 (10, 112, 92)\n",
      "s29 (10, 112, 92)\n",
      "s22 (10, 112, 92)\n",
      "s5 (10, 112, 92)\n",
      "s1 (10, 112, 92)\n",
      "s30 (10, 112, 92)\n",
      "s20 (10, 112, 92)\n",
      "s18 (10, 112, 92)\n",
      "s17 (10, 112, 92)\n",
      "s2 (10, 112, 92)\n",
      "s35 (10, 112, 92)\n",
      "s9 (10, 112, 92)\n",
      "s16 (10, 112, 92)\n",
      "s23 (10, 112, 92)\n",
      "s12 (10, 112, 92)\n",
      "s32 (10, 112, 92)\n",
      "s21 (10, 112, 92)\n",
      "s34 (10, 112, 92)\n",
      "s13 (10, 112, 92)\n",
      "s6 (10, 112, 92)\n",
      "s4 (10, 112, 92)\n",
      "s37 (10, 112, 92)\n",
      "s36 (10, 112, 92)\n",
      "s19 (10, 112, 92)\n",
      "s15 (10, 112, 92)\n",
      "s11 (10, 112, 92)\n",
      "s24 (10, 112, 92)\n",
      "s31 (10, 112, 92)\n"
     ]
    }
   ],
   "source": [
    "pictures = dict()\n",
    "for d in os.listdir('dataset/faces/'):\n",
    "    pictures[d] = []\n",
    "    for f in os.listdir(os.path.join('dataset/faces/', d)):\n",
    "        if f[-4:] == '.pgm':\n",
    "            pictures[d].append(np.asarray(Image.open(os.path.join('dataset/faces/' + d, f)).convert('L')))\n",
    "            \n",
    "labels = pictures.keys()\n",
    "print(\"Total persons:\", len(labels))\n",
    "for d in labels:\n",
    "    pictures[d] = np.asarray(pictures[d])\n",
    "    print(d, pictures[d].shape)"
   ]
  },
  {
   "cell_type": "markdown",
   "metadata": {},
   "source": [
    "## Split dataset"
   ]
  },
  {
   "cell_type": "code",
   "execution_count": 71,
   "metadata": {},
   "outputs": [],
   "source": [
    "train = []\n",
    "l_train = []\n",
    "test = []\n",
    "l_test = []\n",
    "\n",
    "for d in labels:\n",
    "    train.append(pictures[d][0])\n",
    "    test += list(pictures[d][:5])\n",
    "    \n",
    "    l_train.append(d)\n",
    "    l_test += [d] * (5)"
   ]
  },
  {
   "cell_type": "code",
   "execution_count": 72,
   "metadata": {},
   "outputs": [],
   "source": [
    "train = np.asarray(train)\n",
    "test = np.asarray(test)"
   ]
  },
  {
   "cell_type": "markdown",
   "metadata": {},
   "source": [
    "## Train model"
   ]
  },
  {
   "cell_type": "code",
   "execution_count": 73,
   "metadata": {},
   "outputs": [],
   "source": [
    "import EF\n",
    "import importlib\n",
    "importlib.reload(EF)\n",
    "classifier = EF.EigenFacesClassifier(100)\n",
    "classifier.fit(train, l_train)"
   ]
  },
  {
   "cell_type": "markdown",
   "metadata": {},
   "source": [
    "## Make predictions"
   ]
  },
  {
   "cell_type": "code",
   "execution_count": 74,
   "metadata": {},
   "outputs": [
    {
     "name": "stdout",
     "output_type": "stream",
     "text": [
      "0.7243243243243244\n"
     ]
    }
   ],
   "source": [
    "predictions = classifier.predict(test)\n",
    "accuracy = accuracy_score(l_test, predictions)\n",
    "print(accuracy)"
   ]
  },
  {
   "cell_type": "code",
   "execution_count": null,
   "metadata": {},
   "outputs": [],
   "source": []
  }
 ],
 "metadata": {
  "kernelspec": {
   "display_name": "Python 3",
   "language": "python",
   "name": "python3"
  },
  "language_info": {
   "codemirror_mode": {
    "name": "ipython",
    "version": 3
   },
   "file_extension": ".py",
   "mimetype": "text/x-python",
   "name": "python",
   "nbconvert_exporter": "python",
   "pygments_lexer": "ipython3",
   "version": "3.7.1"
  }
 },
 "nbformat": 4,
 "nbformat_minor": 2
}
